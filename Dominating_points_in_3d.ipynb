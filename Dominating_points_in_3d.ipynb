{
 "cells": [
  {
   "cell_type": "code",
   "execution_count": 188,
   "metadata": {},
   "outputs": [],
   "source": [
    "#nlog(n)\n",
    "def axis_sorted_array(a,axis):\n",
    "    axis_sorted_list=sorted(a, key=lambda x: x[axis], reverse=True)\n",
    "    return axis_sorted_list"
   ]
  },
  {
   "cell_type": "code",
   "execution_count": 219,
   "metadata": {},
   "outputs": [],
   "source": [
    "#Complexity = n(sweep plane) + 1 (inserting non dominant) + 1 (comparision)\n",
    "def dominating_points(x_sort_list):\n",
    "    cur_y_max=None\n",
    "    cur_z_max=None\n",
    "    non_dominated_list=[]\n",
    "    for iteration,item in enumerate(x_sort_list):\n",
    "        print(\"Non dominated points at iteration \" +str(iteration)+\" : \"+ str(non_dominated_list))\n",
    "        print(\"cur_y_max = \"+str(cur_y_max) + \", cur_z_max = \"+str(cur_z_max))\n",
    "        if cur_y_max == None and cur_z_max == None:\n",
    "            cur_y_max = item[1]\n",
    "            cur_z_max = item[2]\n",
    "            non_dominated_list.append(item)\n",
    "        if item[1] <= cur_y_max and item[2] <= cur_z_max:\n",
    "            #print ('y:' +str(cur_y_max) + ' z:'+str(cur_z_max))\n",
    "            continue\n",
    "        else:\n",
    "            non_dominated_list.append(item)\n",
    "            if item[1] > cur_y_max:\n",
    "                cur_y_max = item[1]\n",
    "            if item[2] > cur_z_max:\n",
    "                cur_z_max = item[2]\n",
    "            #print (' Inside non dom y:' +str(cur_y_max) + ' z:'+str(cur_z_max))\n",
    "    print(\"\\nNon dominated points finally: \" + str(non_dominated_list))\n",
    "    return len(a)-len(non_dominated_list)\n",
    "\n"
   ]
  },
  {
   "cell_type": "code",
   "execution_count": 220,
   "metadata": {},
   "outputs": [
    {
     "name": "stdout",
     "output_type": "stream",
     "text": [
      "Input array : [[1, 2, 3], [4, 5, 1], [12, 5, 7], [14, 3, 2], [10, 20, 30], [11, 20, 30], [1, 222, 300], [14, 3, 5]]\n",
      "\n",
      "X sorted Input array : [[14, 3, 2], [14, 3, 5], [12, 5, 7], [11, 20, 30], [10, 20, 30], [4, 5, 1], [1, 2, 3], [1, 222, 300]]\n",
      "\n",
      "Non dominated points at iteration 0 : []\n",
      "cur_y_max = None, cur_z_max = None\n",
      "Non dominated points at iteration 1 : [[14, 3, 2]]\n",
      "cur_y_max = 3, cur_z_max = 2\n",
      "Non dominated points at iteration 2 : [[14, 3, 2], [14, 3, 5]]\n",
      "cur_y_max = 3, cur_z_max = 5\n",
      "Non dominated points at iteration 3 : [[14, 3, 2], [14, 3, 5], [12, 5, 7]]\n",
      "cur_y_max = 5, cur_z_max = 7\n",
      "Non dominated points at iteration 4 : [[14, 3, 2], [14, 3, 5], [12, 5, 7], [11, 20, 30]]\n",
      "cur_y_max = 20, cur_z_max = 30\n",
      "Non dominated points at iteration 5 : [[14, 3, 2], [14, 3, 5], [12, 5, 7], [11, 20, 30]]\n",
      "cur_y_max = 20, cur_z_max = 30\n",
      "Non dominated points at iteration 6 : [[14, 3, 2], [14, 3, 5], [12, 5, 7], [11, 20, 30]]\n",
      "cur_y_max = 20, cur_z_max = 30\n",
      "Non dominated points at iteration 7 : [[14, 3, 2], [14, 3, 5], [12, 5, 7], [11, 20, 30]]\n",
      "cur_y_max = 20, cur_z_max = 30\n",
      "\n",
      "Non dominated points finally: [[14, 3, 2], [14, 3, 5], [12, 5, 7], [11, 20, 30], [1, 222, 300]]\n",
      "\n",
      "Number of dominating_points = 3\n"
     ]
    }
   ],
   "source": [
    "a=[[1,2,3],[4,5,1],[12,5,7],[14,3,2],[10,20,30],[11,20,30],[1,222,300],[14, 3, 5]]\n",
    "print(\"Input array : \" + str(a))\n",
    "#Complexity = nlog(n)\n",
    "x_sort_list=axis_sorted_array(a,0)\n",
    "print(\"\\nX sorted Input array : \" + str(x_sort_list) + '\\n')\n",
    "\n",
    "#Complexity = n(sweep plane) + 1 (inserting non dominant) + 1 (comparision)\n",
    "dominating_points=dominating_points(x_sort_list)\n",
    "print(\"\\nNumber of dominating_points = \" + str(dominating_points))"
   ]
  },
  {
   "cell_type": "code",
   "execution_count": null,
   "metadata": {},
   "outputs": [],
   "source": []
  }
 ],
 "metadata": {
  "kernelspec": {
   "display_name": "Python 3",
   "language": "python",
   "name": "python3"
  },
  "language_info": {
   "codemirror_mode": {
    "name": "ipython",
    "version": 3
   },
   "file_extension": ".py",
   "mimetype": "text/x-python",
   "name": "python",
   "nbconvert_exporter": "python",
   "pygments_lexer": "ipython3",
   "version": "3.7.4"
  }
 },
 "nbformat": 4,
 "nbformat_minor": 2
}
